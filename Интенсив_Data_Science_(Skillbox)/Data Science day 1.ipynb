{
 "cells": [
  {
   "cell_type": "code",
   "execution_count": 1,
   "metadata": {},
   "outputs": [],
   "source": [
    "import pandas as pd"
   ]
  },
  {
   "cell_type": "code",
   "execution_count": 2,
   "metadata": {},
   "outputs": [],
   "source": [
    "data_df = pd.read_excel('EURO_rate.xlsx')"
   ]
  },
  {
   "cell_type": "code",
   "execution_count": 3,
   "metadata": {},
   "outputs": [
    {
     "data": {
      "text/html": [
       "<div>\n",
       "<style scoped>\n",
       "    .dataframe tbody tr th:only-of-type {\n",
       "        vertical-align: middle;\n",
       "    }\n",
       "\n",
       "    .dataframe tbody tr th {\n",
       "        vertical-align: top;\n",
       "    }\n",
       "\n",
       "    .dataframe thead th {\n",
       "        text-align: right;\n",
       "    }\n",
       "</style>\n",
       "<table border=\"1\" class=\"dataframe\">\n",
       "  <thead>\n",
       "    <tr style=\"text-align: right;\">\n",
       "      <th></th>\n",
       "      <th>nominal</th>\n",
       "      <th>data</th>\n",
       "      <th>curs</th>\n",
       "      <th>cdx</th>\n",
       "    </tr>\n",
       "  </thead>\n",
       "  <tbody>\n",
       "    <tr>\n",
       "      <th>0</th>\n",
       "      <td>1</td>\n",
       "      <td>2015-01-01</td>\n",
       "      <td>68.3681</td>\n",
       "      <td>Евро</td>\n",
       "    </tr>\n",
       "    <tr>\n",
       "      <th>1</th>\n",
       "      <td>1</td>\n",
       "      <td>2015-01-13</td>\n",
       "      <td>74.3551</td>\n",
       "      <td>Евро</td>\n",
       "    </tr>\n",
       "    <tr>\n",
       "      <th>2</th>\n",
       "      <td>1</td>\n",
       "      <td>2015-01-14</td>\n",
       "      <td>76.7735</td>\n",
       "      <td>Евро</td>\n",
       "    </tr>\n",
       "    <tr>\n",
       "      <th>3</th>\n",
       "      <td>1</td>\n",
       "      <td>2015-01-15</td>\n",
       "      <td>77.9629</td>\n",
       "      <td>Евро</td>\n",
       "    </tr>\n",
       "    <tr>\n",
       "      <th>4</th>\n",
       "      <td>1</td>\n",
       "      <td>2015-01-16</td>\n",
       "      <td>76.3352</td>\n",
       "      <td>Евро</td>\n",
       "    </tr>\n",
       "    <tr>\n",
       "      <th>5</th>\n",
       "      <td>1</td>\n",
       "      <td>2015-01-17</td>\n",
       "      <td>75.8623</td>\n",
       "      <td>Евро</td>\n",
       "    </tr>\n",
       "    <tr>\n",
       "      <th>6</th>\n",
       "      <td>1</td>\n",
       "      <td>2015-01-20</td>\n",
       "      <td>75.1740</td>\n",
       "      <td>Евро</td>\n",
       "    </tr>\n",
       "    <tr>\n",
       "      <th>7</th>\n",
       "      <td>1</td>\n",
       "      <td>2015-01-21</td>\n",
       "      <td>75.2735</td>\n",
       "      <td>Евро</td>\n",
       "    </tr>\n",
       "    <tr>\n",
       "      <th>8</th>\n",
       "      <td>1</td>\n",
       "      <td>2015-01-22</td>\n",
       "      <td>75.8218</td>\n",
       "      <td>Евро</td>\n",
       "    </tr>\n",
       "    <tr>\n",
       "      <th>9</th>\n",
       "      <td>1</td>\n",
       "      <td>2015-01-23</td>\n",
       "      <td>75.7724</td>\n",
       "      <td>Евро</td>\n",
       "    </tr>\n",
       "    <tr>\n",
       "      <th>10</th>\n",
       "      <td>1</td>\n",
       "      <td>2015-01-24</td>\n",
       "      <td>71.9067</td>\n",
       "      <td>Евро</td>\n",
       "    </tr>\n",
       "    <tr>\n",
       "      <th>11</th>\n",
       "      <td>1</td>\n",
       "      <td>2015-01-27</td>\n",
       "      <td>73.5633</td>\n",
       "      <td>Евро</td>\n",
       "    </tr>\n",
       "    <tr>\n",
       "      <th>12</th>\n",
       "      <td>1</td>\n",
       "      <td>2015-01-28</td>\n",
       "      <td>76.2922</td>\n",
       "      <td>Евро</td>\n",
       "    </tr>\n",
       "    <tr>\n",
       "      <th>13</th>\n",
       "      <td>1</td>\n",
       "      <td>2015-01-29</td>\n",
       "      <td>76.2629</td>\n",
       "      <td>Евро</td>\n",
       "    </tr>\n",
       "    <tr>\n",
       "      <th>14</th>\n",
       "      <td>1</td>\n",
       "      <td>2015-01-30</td>\n",
       "      <td>77.5690</td>\n",
       "      <td>Евро</td>\n",
       "    </tr>\n",
       "  </tbody>\n",
       "</table>\n",
       "</div>"
      ],
      "text/plain": [
       "    nominal       data     curs   cdx\n",
       "0         1 2015-01-01  68.3681  Евро\n",
       "1         1 2015-01-13  74.3551  Евро\n",
       "2         1 2015-01-14  76.7735  Евро\n",
       "3         1 2015-01-15  77.9629  Евро\n",
       "4         1 2015-01-16  76.3352  Евро\n",
       "5         1 2015-01-17  75.8623  Евро\n",
       "6         1 2015-01-20  75.1740  Евро\n",
       "7         1 2015-01-21  75.2735  Евро\n",
       "8         1 2015-01-22  75.8218  Евро\n",
       "9         1 2015-01-23  75.7724  Евро\n",
       "10        1 2015-01-24  71.9067  Евро\n",
       "11        1 2015-01-27  73.5633  Евро\n",
       "12        1 2015-01-28  76.2922  Евро\n",
       "13        1 2015-01-29  76.2629  Евро\n",
       "14        1 2015-01-30  77.5690  Евро"
      ]
     },
     "execution_count": 3,
     "metadata": {},
     "output_type": "execute_result"
    }
   ],
   "source": [
    "data_df.head(15)"
   ]
  },
  {
   "cell_type": "code",
   "execution_count": 4,
   "metadata": {},
   "outputs": [
    {
     "name": "stdout",
     "output_type": "stream",
     "text": [
      "<class 'pandas.core.frame.DataFrame'>\n",
      "RangeIndex: 1236 entries, 0 to 1235\n",
      "Data columns (total 4 columns):\n",
      " #   Column   Non-Null Count  Dtype         \n",
      "---  ------   --------------  -----         \n",
      " 0   nominal  1236 non-null   int64         \n",
      " 1   data     1236 non-null   datetime64[ns]\n",
      " 2   curs     1236 non-null   float64       \n",
      " 3   cdx      1236 non-null   object        \n",
      "dtypes: datetime64[ns](1), float64(1), int64(1), object(1)\n",
      "memory usage: 38.8+ KB\n"
     ]
    }
   ],
   "source": [
    "data_df.info()"
   ]
  },
  {
   "cell_type": "code",
   "execution_count": 5,
   "metadata": {
    "scrolled": true
   },
   "outputs": [
    {
     "data": {
      "text/html": [
       "<div>\n",
       "<style scoped>\n",
       "    .dataframe tbody tr th:only-of-type {\n",
       "        vertical-align: middle;\n",
       "    }\n",
       "\n",
       "    .dataframe tbody tr th {\n",
       "        vertical-align: top;\n",
       "    }\n",
       "\n",
       "    .dataframe thead th {\n",
       "        text-align: right;\n",
       "    }\n",
       "</style>\n",
       "<table border=\"1\" class=\"dataframe\">\n",
       "  <thead>\n",
       "    <tr style=\"text-align: right;\">\n",
       "      <th></th>\n",
       "      <th>nominal</th>\n",
       "      <th>curs</th>\n",
       "    </tr>\n",
       "  </thead>\n",
       "  <tbody>\n",
       "    <tr>\n",
       "      <th>count</th>\n",
       "      <td>1236.0</td>\n",
       "      <td>1236.000000</td>\n",
       "    </tr>\n",
       "    <tr>\n",
       "      <th>mean</th>\n",
       "      <td>1.0</td>\n",
       "      <td>70.893355</td>\n",
       "    </tr>\n",
       "    <tr>\n",
       "      <th>std</th>\n",
       "      <td>0.0</td>\n",
       "      <td>5.721692</td>\n",
       "    </tr>\n",
       "    <tr>\n",
       "      <th>min</th>\n",
       "      <td>1.0</td>\n",
       "      <td>52.908700</td>\n",
       "    </tr>\n",
       "    <tr>\n",
       "      <th>25%</th>\n",
       "      <td>1.0</td>\n",
       "      <td>68.674300</td>\n",
       "    </tr>\n",
       "    <tr>\n",
       "      <th>50%</th>\n",
       "      <td>1.0</td>\n",
       "      <td>71.221250</td>\n",
       "    </tr>\n",
       "    <tr>\n",
       "      <th>75%</th>\n",
       "      <td>1.0</td>\n",
       "      <td>74.326525</td>\n",
       "    </tr>\n",
       "    <tr>\n",
       "      <th>max</th>\n",
       "      <td>1.0</td>\n",
       "      <td>91.181400</td>\n",
       "    </tr>\n",
       "  </tbody>\n",
       "</table>\n",
       "</div>"
      ],
      "text/plain": [
       "       nominal         curs\n",
       "count   1236.0  1236.000000\n",
       "mean       1.0    70.893355\n",
       "std        0.0     5.721692\n",
       "min        1.0    52.908700\n",
       "25%        1.0    68.674300\n",
       "50%        1.0    71.221250\n",
       "75%        1.0    74.326525\n",
       "max        1.0    91.181400"
      ]
     },
     "execution_count": 5,
     "metadata": {},
     "output_type": "execute_result"
    }
   ],
   "source": [
    "data_df.describe()"
   ]
  },
  {
   "cell_type": "code",
   "execution_count": 6,
   "metadata": {},
   "outputs": [
    {
     "data": {
      "text/plain": [
       "<matplotlib.axes._subplots.AxesSubplot at 0x8e138c8>"
      ]
     },
     "execution_count": 6,
     "metadata": {},
     "output_type": "execute_result"
    },
    {
     "data": {
      "image/png": "[encoded data removed]",
      "text/plain": [
       "<Figure size 432x288 with 1 Axes>"
      ]
     },
     "metadata": {
      "needs_background": "light"
     },
     "output_type": "display_data"
    }
   ],
   "source": [
    "data_df.curs.plot()"
   ]
  },
  {
   "cell_type": "code",
   "execution_count": 7,
   "metadata": {},
   "outputs": [
    {
     "data": {
      "text/plain": [
       "<matplotlib.axes._subplots.AxesSubplot at 0x8ecc648>"
      ]
     },
     "execution_count": 7,
     "metadata": {},
     "output_type": "execute_result"
    },
    {
     "data": {
      "image/png": "[encoded data removed]",
      "text/plain": [
       "<Figure size 432x288 with 1 Axes>"
      ]
     },
     "metadata": {
      "needs_background": "light"
     },
     "output_type": "display_data"
    }
   ],
   "source": [
    "data_df.curs.hist()"
   ]
  },
  {
   "cell_type": "code",
   "execution_count": 8,
   "metadata": {},
   "outputs": [],
   "source": [
    "past = 4 * 7 # Возьмем 4 недели из прошлого\n",
    "future = 7 # Возьмем 7 дней из будущего"
   ]
  },
  {
   "cell_type": "code",
   "execution_count": 9,
   "metadata": {},
   "outputs": [],
   "source": [
    "money = data_df.curs"
   ]
  },
  {
   "cell_type": "code",
   "execution_count": 10,
   "metadata": {},
   "outputs": [],
   "source": [
    "start = past \n",
    "end = len(money) - future "
   ]
  },
  {
   "cell_type": "code",
   "execution_count": 11,
   "metadata": {},
   "outputs": [
    {
     "data": {
      "text/plain": [
       "28"
      ]
     },
     "execution_count": 11,
     "metadata": {},
     "output_type": "execute_result"
    }
   ],
   "source": [
    "start # День старта"
   ]
  },
  {
   "cell_type": "code",
   "execution_count": 12,
   "metadata": {},
   "outputs": [
    {
     "data": {
      "text/plain": [
       "1229"
      ]
     },
     "execution_count": 12,
     "metadata": {},
     "output_type": "execute_result"
    }
   ],
   "source": [
    "end # День окончания"
   ]
  },
  {
   "cell_type": "code",
   "execution_count": 13,
   "metadata": {},
   "outputs": [
    {
     "data": {
      "text/plain": [
       "1201"
      ]
     },
     "execution_count": 13,
     "metadata": {},
     "output_type": "execute_result"
    }
   ],
   "source": [
    "end - start # Количество примеров для модели"
   ]
  },
  {
   "cell_type": "code",
   "execution_count": 14,
   "metadata": {},
   "outputs": [
    {
     "data": {
      "text/plain": [
       "72    55.1255\n",
       "73    54.6590\n",
       "74    55.8747\n",
       "75    56.9016\n",
       "76    56.8060\n",
       "77    57.1578\n",
       "78    57.4093\n",
       "79    56.1843\n",
       "80    57.2207\n",
       "81    56.8971\n",
       "82    57.1102\n",
       "83    55.7138\n",
       "84    57.1383\n",
       "85    56.9881\n",
       "86    56.1030\n",
       "87    55.1085\n",
       "88    55.2441\n",
       "89    55.5714\n",
       "90    55.5508\n",
       "91    54.7477\n",
       "92    54.8412\n",
       "93    55.6757\n",
       "94    57.1433\n",
       "95    58.0145\n",
       "96    57.7020\n",
       "97    58.6037\n",
       "98    59.1130\n",
       "99    61.9471\n",
       "Name: curs, dtype: float64"
      ]
     },
     "execution_count": 14,
     "metadata": {},
     "output_type": "execute_result"
    }
   ],
   "source": [
    "money[72:100] # Пример получения 28 дней из прошлого"
   ]
  },
  {
   "cell_type": "code",
   "execution_count": 15,
   "metadata": {},
   "outputs": [
    {
     "data": {
      "text/plain": [
       "100    63.3221\n",
       "101    62.5053\n",
       "102    63.0721\n",
       "103    62.2064\n",
       "104    61.4754\n",
       "105    62.1045\n",
       "106    61.1040\n",
       "Name: curs, dtype: float64"
      ]
     },
     "execution_count": 15,
     "metadata": {},
     "output_type": "execute_result"
    }
   ],
   "source": [
    "money[100:107] # Пример, получение 7 значений из будущего"
   ]
  },
  {
   "cell_type": "code",
   "execution_count": 16,
   "metadata": {},
   "outputs": [],
   "source": [
    "new_df = [] # Создадим новый список, где для каждого из ~ 1220 дней будет записано 28 прошлых + 7 будущий = 35 значений курса\n",
    "for i in range(start, end):\n",
    "    all_days = money[(i-past):(i+future)]\n",
    "    new_df.append(list(all_days))"
   ]
  },
  {
   "cell_type": "code",
   "execution_count": 17,
   "metadata": {},
   "outputs": [
    {
     "data": {
      "text/plain": [
       "35"
      ]
     },
     "execution_count": 17,
     "metadata": {},
     "output_type": "execute_result"
    }
   ],
   "source": [
    "len(new_df[2])"
   ]
  },
  {
   "cell_type": "code",
   "execution_count": 18,
   "metadata": {},
   "outputs": [
    {
     "data": {
      "text/plain": [
       "['past_0',\n",
       " 'past_1',\n",
       " 'past_2',\n",
       " 'past_3',\n",
       " 'past_4',\n",
       " 'past_5',\n",
       " 'past_6',\n",
       " 'past_7',\n",
       " 'past_8',\n",
       " 'past_9',\n",
       " 'past_10',\n",
       " 'past_11',\n",
       " 'past_12',\n",
       " 'past_13',\n",
       " 'past_14',\n",
       " 'past_15',\n",
       " 'past_16',\n",
       " 'past_17',\n",
       " 'past_18',\n",
       " 'past_19',\n",
       " 'past_20',\n",
       " 'past_21',\n",
       " 'past_22',\n",
       " 'past_23',\n",
       " 'past_24',\n",
       " 'past_25',\n",
       " 'past_26',\n",
       " 'past_27']"
      ]
     },
     "execution_count": 18,
     "metadata": {},
     "output_type": "execute_result"
    }
   ],
   "source": [
    "past_columns = []\n",
    "for i in range(past):\n",
    "    past_columns.append(f'past_{i}')\n",
    "    \n",
    "past_columns"
   ]
  },
  {
   "cell_type": "code",
   "execution_count": 19,
   "metadata": {},
   "outputs": [
    {
     "data": {
      "text/plain": [
       "['future_0',\n",
       " 'future_1',\n",
       " 'future_2',\n",
       " 'future_3',\n",
       " 'future_4',\n",
       " 'future_5',\n",
       " 'future_6']"
      ]
     },
     "execution_count": 19,
     "metadata": {},
     "output_type": "execute_result"
    }
   ],
   "source": [
    "future_columns = []\n",
    "for i in range(future):\n",
    "    future_columns.append(f'future_{i}')\n",
    "future_columns"
   ]
  },
  {
   "cell_type": "code",
   "execution_count": 20,
   "metadata": {},
   "outputs": [],
   "source": [
    "trans_df = pd.DataFrame(new_df, columns=(past_columns+future_columns))"
   ]
  },
  {
   "cell_type": "code",
   "execution_count": 21,
   "metadata": {},
   "outputs": [
    {
     "data": {
      "text/html": [
       "<div>\n",
       "<style scoped>\n",
       "    .dataframe tbody tr th:only-of-type {\n",
       "        vertical-align: middle;\n",
       "    }\n",
       "\n",
       "    .dataframe tbody tr th {\n",
       "        vertical-align: top;\n",
       "    }\n",
       "\n",
       "    .dataframe thead th {\n",
       "        text-align: right;\n",
       "    }\n",
       "</style>\n",
       "<table border=\"1\" class=\"dataframe\">\n",
       "  <thead>\n",
       "    <tr style=\"text-align: right;\">\n",
       "      <th></th>\n",
       "      <th>past_0</th>\n",
       "      <th>past_1</th>\n",
       "      <th>past_2</th>\n",
       "      <th>past_3</th>\n",
       "      <th>past_4</th>\n",
       "      <th>past_5</th>\n",
       "      <th>past_6</th>\n",
       "      <th>past_7</th>\n",
       "      <th>past_8</th>\n",
       "      <th>past_9</th>\n",
       "      <th>...</th>\n",
       "      <th>past_25</th>\n",
       "      <th>past_26</th>\n",
       "      <th>past_27</th>\n",
       "      <th>future_0</th>\n",
       "      <th>future_1</th>\n",
       "      <th>future_2</th>\n",
       "      <th>future_3</th>\n",
       "      <th>future_4</th>\n",
       "      <th>future_5</th>\n",
       "      <th>future_6</th>\n",
       "    </tr>\n",
       "  </thead>\n",
       "  <tbody>\n",
       "    <tr>\n",
       "      <th>0</th>\n",
       "      <td>68.3681</td>\n",
       "      <td>74.3551</td>\n",
       "      <td>76.7735</td>\n",
       "      <td>77.9629</td>\n",
       "      <td>76.3352</td>\n",
       "      <td>75.8623</td>\n",
       "      <td>75.1740</td>\n",
       "      <td>75.2735</td>\n",
       "      <td>75.8218</td>\n",
       "      <td>75.7724</td>\n",
       "      <td>...</td>\n",
       "      <td>74.3675</td>\n",
       "      <td>71.5426</td>\n",
       "      <td>71.3243</td>\n",
       "      <td>71.0800</td>\n",
       "      <td>70.9408</td>\n",
       "      <td>70.0315</td>\n",
       "      <td>71.9422</td>\n",
       "      <td>71.1655</td>\n",
       "      <td>68.9797</td>\n",
       "      <td>68.6857</td>\n",
       "    </tr>\n",
       "    <tr>\n",
       "      <th>1</th>\n",
       "      <td>74.3551</td>\n",
       "      <td>76.7735</td>\n",
       "      <td>77.9629</td>\n",
       "      <td>76.3352</td>\n",
       "      <td>75.8623</td>\n",
       "      <td>75.1740</td>\n",
       "      <td>75.2735</td>\n",
       "      <td>75.8218</td>\n",
       "      <td>75.7724</td>\n",
       "      <td>71.9067</td>\n",
       "      <td>...</td>\n",
       "      <td>71.5426</td>\n",
       "      <td>71.3243</td>\n",
       "      <td>71.0800</td>\n",
       "      <td>70.9408</td>\n",
       "      <td>70.0315</td>\n",
       "      <td>71.9422</td>\n",
       "      <td>71.1655</td>\n",
       "      <td>68.9797</td>\n",
       "      <td>68.6857</td>\n",
       "      <td>69.5424</td>\n",
       "    </tr>\n",
       "    <tr>\n",
       "      <th>2</th>\n",
       "      <td>76.7735</td>\n",
       "      <td>77.9629</td>\n",
       "      <td>76.3352</td>\n",
       "      <td>75.8623</td>\n",
       "      <td>75.1740</td>\n",
       "      <td>75.2735</td>\n",
       "      <td>75.8218</td>\n",
       "      <td>75.7724</td>\n",
       "      <td>71.9067</td>\n",
       "      <td>73.5633</td>\n",
       "      <td>...</td>\n",
       "      <td>71.3243</td>\n",
       "      <td>71.0800</td>\n",
       "      <td>70.9408</td>\n",
       "      <td>70.0315</td>\n",
       "      <td>71.9422</td>\n",
       "      <td>71.1655</td>\n",
       "      <td>68.9797</td>\n",
       "      <td>68.6857</td>\n",
       "      <td>69.5424</td>\n",
       "      <td>69.8487</td>\n",
       "    </tr>\n",
       "    <tr>\n",
       "      <th>3</th>\n",
       "      <td>77.9629</td>\n",
       "      <td>76.3352</td>\n",
       "      <td>75.8623</td>\n",
       "      <td>75.1740</td>\n",
       "      <td>75.2735</td>\n",
       "      <td>75.8218</td>\n",
       "      <td>75.7724</td>\n",
       "      <td>71.9067</td>\n",
       "      <td>73.5633</td>\n",
       "      <td>76.2922</td>\n",
       "      <td>...</td>\n",
       "      <td>71.0800</td>\n",
       "      <td>70.9408</td>\n",
       "      <td>70.0315</td>\n",
       "      <td>71.9422</td>\n",
       "      <td>71.1655</td>\n",
       "      <td>68.9797</td>\n",
       "      <td>68.6857</td>\n",
       "      <td>69.5424</td>\n",
       "      <td>69.8487</td>\n",
       "      <td>69.1138</td>\n",
       "    </tr>\n",
       "    <tr>\n",
       "      <th>4</th>\n",
       "      <td>76.3352</td>\n",
       "      <td>75.8623</td>\n",
       "      <td>75.1740</td>\n",
       "      <td>75.2735</td>\n",
       "      <td>75.8218</td>\n",
       "      <td>75.7724</td>\n",
       "      <td>71.9067</td>\n",
       "      <td>73.5633</td>\n",
       "      <td>76.2922</td>\n",
       "      <td>76.2629</td>\n",
       "      <td>...</td>\n",
       "      <td>70.9408</td>\n",
       "      <td>70.0315</td>\n",
       "      <td>71.9422</td>\n",
       "      <td>71.1655</td>\n",
       "      <td>68.9797</td>\n",
       "      <td>68.6857</td>\n",
       "      <td>69.5424</td>\n",
       "      <td>69.8487</td>\n",
       "      <td>69.1138</td>\n",
       "      <td>68.3086</td>\n",
       "    </tr>\n",
       "    <tr>\n",
       "      <th>...</th>\n",
       "      <td>...</td>\n",
       "      <td>...</td>\n",
       "      <td>...</td>\n",
       "      <td>...</td>\n",
       "      <td>...</td>\n",
       "      <td>...</td>\n",
       "      <td>...</td>\n",
       "      <td>...</td>\n",
       "      <td>...</td>\n",
       "      <td>...</td>\n",
       "      <td>...</td>\n",
       "      <td>...</td>\n",
       "      <td>...</td>\n",
       "      <td>...</td>\n",
       "      <td>...</td>\n",
       "      <td>...</td>\n",
       "      <td>...</td>\n",
       "      <td>...</td>\n",
       "      <td>...</td>\n",
       "      <td>...</td>\n",
       "      <td>...</td>\n",
       "    </tr>\n",
       "    <tr>\n",
       "      <th>1196</th>\n",
       "      <td>70.4301</td>\n",
       "      <td>70.5489</td>\n",
       "      <td>70.4211</td>\n",
       "      <td>70.4759</td>\n",
       "      <td>70.4235</td>\n",
       "      <td>70.6724</td>\n",
       "      <td>70.6761</td>\n",
       "      <td>70.4111</td>\n",
       "      <td>70.5313</td>\n",
       "      <td>70.6286</td>\n",
       "      <td>...</td>\n",
       "      <td>70.4558</td>\n",
       "      <td>70.4271</td>\n",
       "      <td>69.8608</td>\n",
       "      <td>69.9431</td>\n",
       "      <td>69.6801</td>\n",
       "      <td>69.6925</td>\n",
       "      <td>69.5877</td>\n",
       "      <td>69.3780</td>\n",
       "      <td>68.9978</td>\n",
       "      <td>68.9062</td>\n",
       "    </tr>\n",
       "    <tr>\n",
       "      <th>1197</th>\n",
       "      <td>70.5489</td>\n",
       "      <td>70.4211</td>\n",
       "      <td>70.4759</td>\n",
       "      <td>70.4235</td>\n",
       "      <td>70.6724</td>\n",
       "      <td>70.6761</td>\n",
       "      <td>70.4111</td>\n",
       "      <td>70.5313</td>\n",
       "      <td>70.6286</td>\n",
       "      <td>70.8524</td>\n",
       "      <td>...</td>\n",
       "      <td>70.4271</td>\n",
       "      <td>69.8608</td>\n",
       "      <td>69.9431</td>\n",
       "      <td>69.6801</td>\n",
       "      <td>69.6925</td>\n",
       "      <td>69.5877</td>\n",
       "      <td>69.3780</td>\n",
       "      <td>68.9978</td>\n",
       "      <td>68.9062</td>\n",
       "      <td>68.4065</td>\n",
       "    </tr>\n",
       "    <tr>\n",
       "      <th>1198</th>\n",
       "      <td>70.4211</td>\n",
       "      <td>70.4759</td>\n",
       "      <td>70.4235</td>\n",
       "      <td>70.6724</td>\n",
       "      <td>70.6761</td>\n",
       "      <td>70.4111</td>\n",
       "      <td>70.5313</td>\n",
       "      <td>70.6286</td>\n",
       "      <td>70.8524</td>\n",
       "      <td>70.6997</td>\n",
       "      <td>...</td>\n",
       "      <td>69.8608</td>\n",
       "      <td>69.9431</td>\n",
       "      <td>69.6801</td>\n",
       "      <td>69.6925</td>\n",
       "      <td>69.5877</td>\n",
       "      <td>69.3780</td>\n",
       "      <td>68.9978</td>\n",
       "      <td>68.9062</td>\n",
       "      <td>68.4065</td>\n",
       "      <td>68.5003</td>\n",
       "    </tr>\n",
       "    <tr>\n",
       "      <th>1199</th>\n",
       "      <td>70.4759</td>\n",
       "      <td>70.4235</td>\n",
       "      <td>70.6724</td>\n",
       "      <td>70.6761</td>\n",
       "      <td>70.4111</td>\n",
       "      <td>70.5313</td>\n",
       "      <td>70.6286</td>\n",
       "      <td>70.8524</td>\n",
       "      <td>70.6997</td>\n",
       "      <td>70.5207</td>\n",
       "      <td>...</td>\n",
       "      <td>69.9431</td>\n",
       "      <td>69.6801</td>\n",
       "      <td>69.6925</td>\n",
       "      <td>69.5877</td>\n",
       "      <td>69.3780</td>\n",
       "      <td>68.9978</td>\n",
       "      <td>68.9062</td>\n",
       "      <td>68.4065</td>\n",
       "      <td>68.5003</td>\n",
       "      <td>69.0349</td>\n",
       "    </tr>\n",
       "    <tr>\n",
       "      <th>1200</th>\n",
       "      <td>70.4235</td>\n",
       "      <td>70.6724</td>\n",
       "      <td>70.6761</td>\n",
       "      <td>70.4111</td>\n",
       "      <td>70.5313</td>\n",
       "      <td>70.6286</td>\n",
       "      <td>70.8524</td>\n",
       "      <td>70.6997</td>\n",
       "      <td>70.5207</td>\n",
       "      <td>70.3122</td>\n",
       "      <td>...</td>\n",
       "      <td>69.6801</td>\n",
       "      <td>69.6925</td>\n",
       "      <td>69.5877</td>\n",
       "      <td>69.3780</td>\n",
       "      <td>68.9978</td>\n",
       "      <td>68.9062</td>\n",
       "      <td>68.4065</td>\n",
       "      <td>68.5003</td>\n",
       "      <td>69.0349</td>\n",
       "      <td>69.3406</td>\n",
       "    </tr>\n",
       "  </tbody>\n",
       "</table>\n",
       "<p>1201 rows × 35 columns</p>\n",
       "</div>"
      ],
      "text/plain": [
       "       past_0   past_1   past_2   past_3   past_4   past_5   past_6   past_7  \\\n",
       "0     68.3681  74.3551  76.7735  77.9629  76.3352  75.8623  75.1740  75.2735   \n",
       "1     74.3551  76.7735  77.9629  76.3352  75.8623  75.1740  75.2735  75.8218   \n",
       "2     76.7735  77.9629  76.3352  75.8623  75.1740  75.2735  75.8218  75.7724   \n",
       "3     77.9629  76.3352  75.8623  75.1740  75.2735  75.8218  75.7724  71.9067   \n",
       "4     76.3352  75.8623  75.1740  75.2735  75.8218  75.7724  71.9067  73.5633   \n",
       "...       ...      ...      ...      ...      ...      ...      ...      ...   \n",
       "1196  70.4301  70.5489  70.4211  70.4759  70.4235  70.6724  70.6761  70.4111   \n",
       "1197  70.5489  70.4211  70.4759  70.4235  70.6724  70.6761  70.4111  70.5313   \n",
       "1198  70.4211  70.4759  70.4235  70.6724  70.6761  70.4111  70.5313  70.6286   \n",
       "1199  70.4759  70.4235  70.6724  70.6761  70.4111  70.5313  70.6286  70.8524   \n",
       "1200  70.4235  70.6724  70.6761  70.4111  70.5313  70.6286  70.8524  70.6997   \n",
       "\n",
       "       past_8   past_9  ...  past_25  past_26  past_27  future_0  future_1  \\\n",
       "0     75.8218  75.7724  ...  74.3675  71.5426  71.3243   71.0800   70.9408   \n",
       "1     75.7724  71.9067  ...  71.5426  71.3243  71.0800   70.9408   70.0315   \n",
       "2     71.9067  73.5633  ...  71.3243  71.0800  70.9408   70.0315   71.9422   \n",
       "3     73.5633  76.2922  ...  71.0800  70.9408  70.0315   71.9422   71.1655   \n",
       "4     76.2922  76.2629  ...  70.9408  70.0315  71.9422   71.1655   68.9797   \n",
       "...       ...      ...  ...      ...      ...      ...       ...       ...   \n",
       "1196  70.5313  70.6286  ...  70.4558  70.4271  69.8608   69.9431   69.6801   \n",
       "1197  70.6286  70.8524  ...  70.4271  69.8608  69.9431   69.6801   69.6925   \n",
       "1198  70.8524  70.6997  ...  69.8608  69.9431  69.6801   69.6925   69.5877   \n",
       "1199  70.6997  70.5207  ...  69.9431  69.6801  69.6925   69.5877   69.3780   \n",
       "1200  70.5207  70.3122  ...  69.6801  69.6925  69.5877   69.3780   68.9978   \n",
       "\n",
       "      future_2  future_3  future_4  future_5  future_6  \n",
       "0      70.0315   71.9422   71.1655   68.9797   68.6857  \n",
       "1      71.9422   71.1655   68.9797   68.6857   69.5424  \n",
       "2      71.1655   68.9797   68.6857   69.5424   69.8487  \n",
       "3      68.9797   68.6857   69.5424   69.8487   69.1138  \n",
       "4      68.6857   69.5424   69.8487   69.1138   68.3086  \n",
       "...        ...       ...       ...       ...       ...  \n",
       "1196   69.6925   69.5877   69.3780   68.9978   68.9062  \n",
       "1197   69.5877   69.3780   68.9978   68.9062   68.4065  \n",
       "1198   69.3780   68.9978   68.9062   68.4065   68.5003  \n",
       "1199   68.9978   68.9062   68.4065   68.5003   69.0349  \n",
       "1200   68.9062   68.4065   68.5003   69.0349   69.3406  \n",
       "\n",
       "[1201 rows x 35 columns]"
      ]
     },
     "execution_count": 21,
     "metadata": {},
     "output_type": "execute_result"
    }
   ],
   "source": [
    "trans_df"
   ]
  },
  {
   "cell_type": "code",
   "execution_count": 22,
   "metadata": {},
   "outputs": [],
   "source": [
    "# Подготовим обучающую выборку.\n",
    "X = trans_df[past_columns][:-1] # Данные на которых модель будет делать предсказания\n",
    "Y = trans_df[future_columns][:-1] # Данные котороые модель долдна получить (предсказывать)"
   ]
  },
  {
   "cell_type": "code",
   "execution_count": 23,
   "metadata": {},
   "outputs": [],
   "source": [
    "# Экзамен, тестовая выборка на которой будем тестировать модель\n",
    "X_test = trans_df[past_columns][-1:]\n",
    "Y_test = trans_df[future_columns][-1:]"
   ]
  },
  {
   "cell_type": "code",
   "execution_count": 24,
   "metadata": {},
   "outputs": [
    {
     "data": {
      "text/html": [
       "<div>\n",
       "<style scoped>\n",
       "    .dataframe tbody tr th:only-of-type {\n",
       "        vertical-align: middle;\n",
       "    }\n",
       "\n",
       "    .dataframe tbody tr th {\n",
       "        vertical-align: top;\n",
       "    }\n",
       "\n",
       "    .dataframe thead th {\n",
       "        text-align: right;\n",
       "    }\n",
       "</style>\n",
       "<table border=\"1\" class=\"dataframe\">\n",
       "  <thead>\n",
       "    <tr style=\"text-align: right;\">\n",
       "      <th></th>\n",
       "      <th>past_0</th>\n",
       "      <th>past_1</th>\n",
       "      <th>past_2</th>\n",
       "      <th>past_3</th>\n",
       "      <th>past_4</th>\n",
       "      <th>past_5</th>\n",
       "      <th>past_6</th>\n",
       "      <th>past_7</th>\n",
       "      <th>past_8</th>\n",
       "      <th>past_9</th>\n",
       "      <th>...</th>\n",
       "      <th>past_18</th>\n",
       "      <th>past_19</th>\n",
       "      <th>past_20</th>\n",
       "      <th>past_21</th>\n",
       "      <th>past_22</th>\n",
       "      <th>past_23</th>\n",
       "      <th>past_24</th>\n",
       "      <th>past_25</th>\n",
       "      <th>past_26</th>\n",
       "      <th>past_27</th>\n",
       "    </tr>\n",
       "  </thead>\n",
       "  <tbody>\n",
       "    <tr>\n",
       "      <th>1200</th>\n",
       "      <td>70.4235</td>\n",
       "      <td>70.6724</td>\n",
       "      <td>70.6761</td>\n",
       "      <td>70.4111</td>\n",
       "      <td>70.5313</td>\n",
       "      <td>70.6286</td>\n",
       "      <td>70.8524</td>\n",
       "      <td>70.6997</td>\n",
       "      <td>70.5207</td>\n",
       "      <td>70.3122</td>\n",
       "      <td>...</td>\n",
       "      <td>70.7594</td>\n",
       "      <td>70.5047</td>\n",
       "      <td>70.3881</td>\n",
       "      <td>70.4558</td>\n",
       "      <td>70.4271</td>\n",
       "      <td>69.8608</td>\n",
       "      <td>69.9431</td>\n",
       "      <td>69.6801</td>\n",
       "      <td>69.6925</td>\n",
       "      <td>69.5877</td>\n",
       "    </tr>\n",
       "  </tbody>\n",
       "</table>\n",
       "<p>1 rows × 28 columns</p>\n",
       "</div>"
      ],
      "text/plain": [
       "       past_0   past_1   past_2   past_3   past_4   past_5   past_6   past_7  \\\n",
       "1200  70.4235  70.6724  70.6761  70.4111  70.5313  70.6286  70.8524  70.6997   \n",
       "\n",
       "       past_8   past_9  ...  past_18  past_19  past_20  past_21  past_22  \\\n",
       "1200  70.5207  70.3122  ...  70.7594  70.5047  70.3881  70.4558  70.4271   \n",
       "\n",
       "      past_23  past_24  past_25  past_26  past_27  \n",
       "1200  69.8608  69.9431  69.6801  69.6925  69.5877  \n",
       "\n",
       "[1 rows x 28 columns]"
      ]
     },
     "execution_count": 24,
     "metadata": {},
     "output_type": "execute_result"
    }
   ],
   "source": [
    "X_test"
   ]
  },
  {
   "cell_type": "code",
   "execution_count": 25,
   "metadata": {},
   "outputs": [],
   "source": [
    "# Задача регрессии - по одним числам предсказать другие.\n",
    "# Задача классификации - по входным данным определить класс объекта."
   ]
  },
  {
   "cell_type": "code",
   "execution_count": 26,
   "metadata": {},
   "outputs": [],
   "source": [
    "from sklearn.linear_model import LinearRegression"
   ]
  },
  {
   "cell_type": "code",
   "execution_count": 27,
   "metadata": {},
   "outputs": [],
   "source": [
    "LinReg = LinearRegression()"
   ]
  },
  {
   "cell_type": "code",
   "execution_count": 28,
   "metadata": {},
   "outputs": [
    {
     "data": {
      "text/plain": [
       "LinearRegression(copy_X=True, fit_intercept=True, n_jobs=None, normalize=False)"
      ]
     },
     "execution_count": 28,
     "metadata": {},
     "output_type": "execute_result"
    }
   ],
   "source": [
    "LinReg.fit(X, Y) # Обучение модели"
   ]
  },
  {
   "cell_type": "code",
   "execution_count": 29,
   "metadata": {},
   "outputs": [],
   "source": [
    "prediction = LinReg.predict(X_test)"
   ]
  },
  {
   "cell_type": "code",
   "execution_count": 30,
   "metadata": {},
   "outputs": [
    {
     "data": {
      "text/plain": [
       "array([[69.59535619, 69.59137185, 69.63098662, 69.61268695, 69.65454353,\n",
       "        69.53683678, 69.58139255]])"
      ]
     },
     "execution_count": 30,
     "metadata": {},
     "output_type": "execute_result"
    }
   ],
   "source": [
    "prediction"
   ]
  },
  {
   "cell_type": "code",
   "execution_count": 31,
   "metadata": {},
   "outputs": [
    {
     "data": {
      "text/html": [
       "<div>\n",
       "<style scoped>\n",
       "    .dataframe tbody tr th:only-of-type {\n",
       "        vertical-align: middle;\n",
       "    }\n",
       "\n",
       "    .dataframe tbody tr th {\n",
       "        vertical-align: top;\n",
       "    }\n",
       "\n",
       "    .dataframe thead th {\n",
       "        text-align: right;\n",
       "    }\n",
       "</style>\n",
       "<table border=\"1\" class=\"dataframe\">\n",
       "  <thead>\n",
       "    <tr style=\"text-align: right;\">\n",
       "      <th></th>\n",
       "      <th>future_0</th>\n",
       "      <th>future_1</th>\n",
       "      <th>future_2</th>\n",
       "      <th>future_3</th>\n",
       "      <th>future_4</th>\n",
       "      <th>future_5</th>\n",
       "      <th>future_6</th>\n",
       "    </tr>\n",
       "  </thead>\n",
       "  <tbody>\n",
       "    <tr>\n",
       "      <th>1200</th>\n",
       "      <td>69.378</td>\n",
       "      <td>68.9978</td>\n",
       "      <td>68.9062</td>\n",
       "      <td>68.4065</td>\n",
       "      <td>68.5003</td>\n",
       "      <td>69.0349</td>\n",
       "      <td>69.3406</td>\n",
       "    </tr>\n",
       "  </tbody>\n",
       "</table>\n",
       "</div>"
      ],
      "text/plain": [
       "      future_0  future_1  future_2  future_3  future_4  future_5  future_6\n",
       "1200    69.378   68.9978   68.9062   68.4065   68.5003   69.0349   69.3406"
      ]
     },
     "execution_count": 31,
     "metadata": {},
     "output_type": "execute_result"
    }
   ],
   "source": [
    "Y_test"
   ]
  },
  {
   "cell_type": "code",
   "execution_count": 32,
   "metadata": {},
   "outputs": [],
   "source": [
    "import matplotlib.pyplot as plt"
   ]
  },
  {
   "cell_type": "code",
   "execution_count": 33,
   "metadata": {},
   "outputs": [
    {
     "data": {
      "text/plain": [
       "<matplotlib.legend.Legend at 0xbe53fc8>"
      ]
     },
     "execution_count": 33,
     "metadata": {},
     "output_type": "execute_result"
    },
    {
     "data": {
      "image/png": "[encoded data removed]",
      "text/plain": [
       "<Figure size 432x288 with 1 Axes>"
      ]
     },
     "metadata": {
      "needs_background": "light"
     },
     "output_type": "display_data"
    }
   ],
   "source": [
    "plt.plot(prediction[0], label='prediction')\n",
    "plt.plot(Y_test.iloc[0], label='Real')\n",
    "plt.legend()"
   ]
  },
  {
   "cell_type": "code",
   "execution_count": 34,
   "metadata": {},
   "outputs": [],
   "source": [
    "from sklearn.metrics import mean_absolute_error, max_error"
   ]
  },
  {
   "cell_type": "code",
   "execution_count": 35,
   "metadata": {},
   "outputs": [
    {
     "data": {
      "text/plain": [
       "0.6626963513454618"
      ]
     },
     "execution_count": 35,
     "metadata": {},
     "output_type": "execute_result"
    }
   ],
   "source": [
    "mean_absolute_error(prediction[0], Y_test.iloc[0])"
   ]
  },
  {
   "cell_type": "code",
   "execution_count": 36,
   "metadata": {},
   "outputs": [
    {
     "data": {
      "text/plain": [
       "1.2061869490383685"
      ]
     },
     "execution_count": 36,
     "metadata": {},
     "output_type": "execute_result"
    }
   ],
   "source": [
    "max_error(prediction[0], Y_test.iloc[0])"
   ]
  },
  {
   "cell_type": "code",
   "execution_count": 37,
   "metadata": {},
   "outputs": [],
   "source": [
    "from sklearn.neighbors import KNeighborsRegressor"
   ]
  },
  {
   "cell_type": "code",
   "execution_count": 38,
   "metadata": {},
   "outputs": [
    {
     "data": {
      "text/plain": [
       "KNeighborsRegressor(algorithm='auto', leaf_size=30, metric='minkowski',\n",
       "                    metric_params=None, n_jobs=None, n_neighbors=5, p=2,\n",
       "                    weights='uniform')"
      ]
     },
     "execution_count": 38,
     "metadata": {},
     "output_type": "execute_result"
    }
   ],
   "source": [
    "KNN = KNeighborsRegressor()\n",
    "KNN.fit(X, Y)"
   ]
  },
  {
   "cell_type": "code",
   "execution_count": 39,
   "metadata": {},
   "outputs": [
    {
     "data": {
      "text/plain": [
       "<matplotlib.legend.Legend at 0xc36dd88>"
      ]
     },
     "execution_count": 39,
     "metadata": {},
     "output_type": "execute_result"
    },
    {
     "data": {
      "image/png": "[encoded data removed]",
      "text/plain": [
       "<Figure size 432x288 with 1 Axes>"
      ]
     },
     "metadata": {
      "needs_background": "light"
     },
     "output_type": "display_data"
    }
   ],
   "source": [
    "prediction = KNN.predict(X_test)\n",
    "plt.plot(prediction[0], label='prediction')\n",
    "plt.plot(Y_test.iloc[0], label='Real')\n",
    "plt.legend()"
   ]
  },
  {
   "cell_type": "code",
   "execution_count": 40,
   "metadata": {},
   "outputs": [
    {
     "data": {
      "text/plain": [
       "0.5462600000000017"
      ]
     },
     "execution_count": 40,
     "metadata": {},
     "output_type": "execute_result"
    }
   ],
   "source": [
    "mean_absolute_error(prediction[0], Y_test.iloc[0])"
   ]
  },
  {
   "cell_type": "code",
   "execution_count": 41,
   "metadata": {},
   "outputs": [
    {
     "data": {
      "text/plain": [
       "0.9059400000000011"
      ]
     },
     "execution_count": 41,
     "metadata": {},
     "output_type": "execute_result"
    }
   ],
   "source": [
    "max_error(prediction[0], Y_test.iloc[0])"
   ]
  },
  {
   "cell_type": "code",
   "execution_count": 42,
   "metadata": {},
   "outputs": [],
   "source": [
    "from sklearn.neural_network import MLPRegressor"
   ]
  },
  {
   "cell_type": "code",
   "execution_count": 43,
   "metadata": {},
   "outputs": [
    {
     "data": {
      "text/plain": [
       "MLPRegressor(activation='relu', alpha=0.0001, batch_size='auto', beta_1=0.9,\n",
       "             beta_2=0.999, early_stopping=False, epsilon=1e-08,\n",
       "             hidden_layer_sizes=(100, 100, 100), learning_rate='constant',\n",
       "             learning_rate_init=0.001, max_fun=15000, max_iter=1500,\n",
       "             momentum=0.9, n_iter_no_change=10, nesterovs_momentum=True,\n",
       "             power_t=0.5, random_state=42, shuffle=True, solver='adam',\n",
       "             tol=0.0001, validation_fraction=0.1, verbose=False,\n",
       "             warm_start=False)"
      ]
     },
     "execution_count": 43,
     "metadata": {},
     "output_type": "execute_result"
    }
   ],
   "source": [
    "MLP = MLPRegressor(random_state=42, max_iter=1500, hidden_layer_sizes=(100,100,100))\n",
    "MLP.fit(X, Y)"
   ]
  },
  {
   "cell_type": "code",
   "execution_count": 44,
   "metadata": {},
   "outputs": [],
   "source": [
    "prediction = MLP.predict(X_test)"
   ]
  },
  {
   "cell_type": "code",
   "execution_count": 45,
   "metadata": {},
   "outputs": [
    {
     "data": {
      "text/plain": [
       "<matplotlib.legend.Legend at 0xbe86688>"
      ]
     },
     "execution_count": 45,
     "metadata": {},
     "output_type": "execute_result"
    },
    {
     "data": {
      "image/png": "[encoded data removed]",
      "text/plain": [
       "<Figure size 432x288 with 1 Axes>"
      ]
     },
     "metadata": {
      "needs_background": "light"
     },
     "output_type": "display_data"
    }
   ],
   "source": [
    "plt.plot(prediction[0], label='prediction')\n",
    "plt.plot(Y_test.iloc[0], label='Real')\n",
    "plt.legend()"
   ]
  },
  {
   "cell_type": "code",
   "execution_count": 46,
   "metadata": {},
   "outputs": [
    {
     "data": {
      "text/plain": [
       "0.3413167936583343"
      ]
     },
     "execution_count": 46,
     "metadata": {},
     "output_type": "execute_result"
    }
   ],
   "source": [
    "mean_absolute_error(prediction[0], Y_test.iloc[0])"
   ]
  },
  {
   "cell_type": "code",
   "execution_count": 47,
   "metadata": {},
   "outputs": [
    {
     "data": {
      "text/plain": [
       "0.6838583675852448"
      ]
     },
     "execution_count": 47,
     "metadata": {},
     "output_type": "execute_result"
    }
   ],
   "source": [
    "max_error(prediction[0], Y_test.iloc[0])"
   ]
  },
  {
   "cell_type": "code",
   "execution_count": 48,
   "metadata": {},
   "outputs": [],
   "source": [
    "from sklearn.linear_model import Lasso"
   ]
  },
  {
   "cell_type": "code",
   "execution_count": 49,
   "metadata": {},
   "outputs": [
    {
     "data": {
      "text/plain": [
       "Lasso(alpha=0.1, copy_X=True, fit_intercept=True, max_iter=1600,\n",
       "      normalize=False, positive=False, precompute=False, random_state=None,\n",
       "      selection='cyclic', tol=0.0001, warm_start=False)"
      ]
     },
     "execution_count": 49,
     "metadata": {},
     "output_type": "execute_result"
    }
   ],
   "source": [
    "reg = Lasso(alpha=0.1, max_iter=1600 )\n",
    "reg.fit(X, Y)\n",
    "# Lasso(alpha=0.1)"
   ]
  },
  {
   "cell_type": "code",
   "execution_count": 50,
   "metadata": {},
   "outputs": [],
   "source": [
    "prediction = reg.predict(X_test)"
   ]
  },
  {
   "cell_type": "code",
   "execution_count": 51,
   "metadata": {},
   "outputs": [
    {
     "data": {
      "text/plain": [
       "<matplotlib.legend.Legend at 0xc4b5a08>"
      ]
     },
     "execution_count": 51,
     "metadata": {},
     "output_type": "execute_result"
    },
    {
     "data": {
      "image/png": "[encoded data removed]",
      "text/plain": [
       "<Figure size 432x288 with 1 Axes>"
      ]
     },
     "metadata": {
      "needs_background": "light"
     },
     "output_type": "display_data"
    }
   ],
   "source": [
    "plt.plot(prediction[0], label='prediction')\n",
    "plt.plot(Y_test.iloc[0], label='Real')\n",
    "plt.legend()"
   ]
  },
  {
   "cell_type": "code",
   "execution_count": 52,
   "metadata": {},
   "outputs": [
    {
     "data": {
      "text/plain": [
       "0.6808469947168773"
      ]
     },
     "execution_count": 52,
     "metadata": {},
     "output_type": "execute_result"
    }
   ],
   "source": [
    "mean_absolute_error(prediction[0], Y_test.iloc[0])"
   ]
  },
  {
   "cell_type": "code",
   "execution_count": 53,
   "metadata": {},
   "outputs": [
    {
     "data": {
      "text/plain": [
       "1.220228428522418"
      ]
     },
     "execution_count": 53,
     "metadata": {},
     "output_type": "execute_result"
    }
   ],
   "source": [
    "max_error(prediction[0], Y_test.iloc[0])"
   ]
  }
 ],
 "metadata": {
  "kernelspec": {
   "display_name": "Python 3",
   "language": "python",
   "name": "python3"
  },
  "language_info": {
   "codemirror_mode": {
    "name": "ipython",
    "version": 3
   },
   "file_extension": ".py",
   "mimetype": "text/x-python",
   "name": "python",
   "nbconvert_exporter": "python",
   "pygments_lexer": "ipython3",
   "version": "3.7.6"
  }
 },
 "nbformat": 4,
 "nbformat_minor": 2
}
